{
 "cells": [
  {
   "cell_type": "markdown",
   "metadata": {},
   "source": [
    "# Deep Q-Learning - Lunar Lander\n",
    "\n",
    "In this assignment, you will train an agent to land a lunar lander safely on a landing pad on the surface of the moon.\n",
    "\n",
    "\n",
    "# Outline\n",
    "- [ 1 - Import Packages <img align=\"Right\" src=\"./images/lunar_lander.gif\" width = 60% >](#1)\n",
    "- [ 2 - Hyperparameters](#2)\n",
    "- [ 3 - The Lunar Lander Environment](#3)\n",
    "  - [ 3.1 Action Space](#3.1)\n",
    "  - [ 3.2 Observation Space](#3.2)\n",
    "  - [ 3.3 Rewards](#3.3)\n",
    "  - [ 3.4 Episode Termination](#3.4)\n",
    "- [ 4 - Load the Environment](#4)\n",
    "- [ 5 - Interacting with the Gym Environment](#5)\n",
    "    - [ 5.1 Exploring the Environment's Dynamics](#5.1)\n",
    "- [ 6 - Deep Q-Learning](#6)\n",
    "  - [ 6.1 Target Network](#6.1)\n",
    "    - [ Exercise 1](#ex01)\n",
    "  - [ 6.2 Experience Replay](#6.2)\n",
    "- [ 7 - Deep Q-Learning Algorithm with Experience Replay](#7)\n",
    "  - [ Exercise 2](#ex02)\n",
    "- [ 8 - Update the Network Weights](#8)\n",
    "- [ 9 - Train the Agent](#9)\n",
    "- [ 10 - See the Trained Agent In Action](#10)\n",
    "- [ 11 - Congratulations!](#11)\n",
    "- [ 12 - References](#12)\n"
   ]
  },
  {
   "cell_type": "markdown",
   "metadata": {},
   "source": [
    "_**NOTE:** To prevent errors from the autograder, you are not allowed to edit or delete non-graded cells in this lab. Please also refrain from adding any new cells. \n",
    "**Once you have passed this assignment** and want to experiment with any of the non-graded code, you may follow the instructions at the bottom of this notebook._"
   ]
  },
  {
   "cell_type": "markdown",
   "metadata": {},
   "source": [
    "<a name=\"1\"></a>\n",
    "## 1 - Import Packages\n",
    "\n",
    "We'll make use of the following packages:\n",
    "- `numpy` is a package for scientific computing in python.\n",
    "- `deque` will be our data structure for our memory buffer.\n",
    "- `namedtuple` will be used to store the experience tuples.\n",
    "- The `gym` toolkit is a collection of environments that can be used to test reinforcement learning algorithms. We should note that in this notebook we are using `gym` version `0.24.0`.\n",
    "- `PIL.Image` and `pyvirtualdisplay` are needed to render the Lunar Lander environment.\n",
    "- We will use several modules from the `tensorflow.keras` framework for building deep learning models.\n",
    "- `utils` is a module that contains helper functions for this assignment. You do not need to modify the code in this file.\n",
    "\n",
    "Run the cell below to import all the necessary packages."
   ]
  },
  {
   "cell_type": "code",
   "execution_count": 1,
   "metadata": {
    "deletable": false,
    "editable": false,
    "id": "KYbOPKRtfQOr"
   },
   "outputs": [
    {
     "name": "stderr",
     "output_type": "stream",
     "text": [
      "Warning: Gym version v0.24.0 has a number of critical issues with `gym.make` such that the `reset` and `step` functions are called before returning the environment. It is recommend to downgrading to v0.23.1 or upgrading to v0.25.1\n",
      "e:\\anaconda3\\envs\\python310-env\\lib\\site-packages\\google\\protobuf\\__init__.py:37: DeprecationWarning: pkg_resources is deprecated as an API. See https://setuptools.pypa.io/en/latest/pkg_resources.html\n",
      "  __import__('pkg_resources').declare_namespace(__name__)\n",
      "e:\\anaconda3\\envs\\python310-env\\lib\\site-packages\\pkg_resources\\__init__.py:2868: DeprecationWarning: Deprecated call to `pkg_resources.declare_namespace('google')`.\n",
      "Implementing implicit namespace packages (as specified in PEP 420) is preferred to `pkg_resources.declare_namespace`. See https://setuptools.pypa.io/en/latest/references/keywords.html#keyword-namespace-packages\n",
      "  declare_namespace(pkg)\n",
      "e:\\anaconda3\\envs\\python310-env\\lib\\site-packages\\google\\protobuf\\__init__.py:37: DeprecationWarning: Deprecated call to `pkg_resources.declare_namespace('google.protobuf')`.\n",
      "Implementing implicit namespace packages (as specified in PEP 420) is preferred to `pkg_resources.declare_namespace`. See https://setuptools.pypa.io/en/latest/references/keywords.html#keyword-namespace-packages\n",
      "  __import__('pkg_resources').declare_namespace(__name__)\n",
      "e:\\anaconda3\\envs\\python310-env\\lib\\site-packages\\tensorflow\\python\\framework\\dtypes.py:246: DeprecationWarning: `np.bool8` is a deprecated alias for `np.bool_`.  (Deprecated NumPy 1.24)\n",
      "  np.bool8: (False, True),\n",
      "e:\\anaconda3\\envs\\python310-env\\lib\\site-packages\\flatbuffers\\compat.py:19: DeprecationWarning: the imp module is deprecated in favour of importlib and slated for removal in Python 3.12; see the module's documentation for alternative uses\n",
      "  import imp\n",
      "e:\\anaconda3\\envs\\python310-env\\lib\\site-packages\\tensorboard\\compat\\tensorflow_stub\\dtypes.py:326: DeprecationWarning: `np.bool8` is a deprecated alias for `np.bool_`.  (Deprecated NumPy 1.24)\n",
      "  np.bool8: (False, True),\n"
     ]
    }
   ],
   "source": [
    "import time\n",
    "from collections import deque, namedtuple\n",
    "\n",
    "import gym\n",
    "import numpy as np\n",
    "import PIL.Image\n",
    "import tensorflow as tf\n",
    "import utils\n",
    "\n",
    "# from pyvirtualdisplay.display import Display\n",
    "from tensorflow.python.keras import Sequential\n",
    "from tensorflow.python.keras.layers import Dense, Input, InputLayer\n",
    "from tensorflow.python.keras.losses import MSE\n",
    "from tensorflow.python.keras.optimizer_v2.adam import Adam"
   ]
  },
  {
   "cell_type": "code",
   "execution_count": 3,
   "metadata": {
    "deletable": false,
    "editable": false
   },
   "outputs": [],
   "source": [
    "# Set up a virtual display to render the Lunar Lander environment.\n",
    "# Display(visible=0, size=(840, 480)).start();\n",
    "\n",
    "# Set the random seed for TensorFlow\n",
    "tf.random.set_seed(utils.SEED)"
   ]
  },
  {
   "cell_type": "markdown",
   "metadata": {},
   "source": [
    "<a name=\"2\"></a>\n",
    "## 2 - Hyperparameters\n",
    "\n",
    "Run the cell below to set the hyperparameters."
   ]
  },
  {
   "cell_type": "code",
   "execution_count": 4,
   "metadata": {
    "deletable": false,
    "editable": false
   },
   "outputs": [],
   "source": [
    "MEMORY_SIZE = 100_000     # size of memory buffer\n",
    "GAMMA = 0.995             # discount factor\n",
    "ALPHA = 1e-3              # learning rate  \n",
    "NUM_STEPS_FOR_UPDATE = 4  # perform a learning update every C time steps"
   ]
  },
  {
   "cell_type": "markdown",
   "metadata": {},
   "source": [
    "<a name=\"3\"></a>\n",
    "## 3 - The Lunar Lander Environment\n",
    "\n",
    "In this notebook we will be using [OpenAI's Gym Library](https://www.gymlibrary.dev/). The Gym library provides a wide variety of environments for reinforcement learning. To put it simply, an environment represents a problem or task to be solved. In this notebook, we will try to solve the Lunar Lander environment using reinforcement learning.\n",
    "\n",
    "The goal of the Lunar Lander environment is to land the lunar lander safely on the landing pad on the surface of the moon. The landing pad is designated by two flag poles and it is always at coordinates `(0,0)` but the lander is also allowed to land outside of the landing pad. The lander starts at the top center of the environment with a random initial force applied to its center of mass and has infinite fuel. The environment is considered solved if you get `200` points. \n",
    "\n",
    "<br>\n",
    "<br>\n",
    "<figure>\n",
    "  <img src = \"images/lunar_lander.gif\" width = 40%>\n",
    "      <figcaption style = \"text-align: center; font-style: italic\">Fig 1. Lunar Lander Environment.</figcaption>\n",
    "</figure>\n",
    "\n",
    "\n",
    "\n",
    "<a name=\"3.1\"></a>\n",
    "### 3.1 Action Space\n",
    "\n",
    "The agent has four discrete actions available:\n",
    "\n",
    "* Do nothing.\n",
    "* Fire right engine.\n",
    "* Fire main engine.\n",
    "* Fire left engine.\n",
    "\n",
    "Each action has a corresponding numerical value:\n",
    "\n",
    "```python\n",
    "Do nothing = 0\n",
    "Fire right engine = 1\n",
    "Fire main engine = 2\n",
    "Fire left engine = 3\n",
    "```\n",
    "\n",
    "<a name=\"3.2\"></a>\n",
    "### 3.2 Observation Space\n",
    "\n",
    "The agent's observation space consists of a state vector with 8 variables:\n",
    "\n",
    "* Its $(x,y)$ coordinates. The landing pad is always at coordinates $(0,0)$.\n",
    "* Its linear velocities $(\\dot x,\\dot y)$.\n",
    "* Its angle $\\theta$.\n",
    "* Its angular velocity $\\dot \\theta$.\n",
    "* Two booleans, $l$ and $r$, that represent whether each leg is in contact with the ground or not.\n",
    "\n",
    "<a name=\"3.3\"></a>\n",
    "### 3.3 Rewards\n",
    "\n",
    "The Lunar Lander environment has the following reward system:\n",
    "\n",
    "* Landing on the landing pad and coming to rest is about 100-140 points.\n",
    "* If the lander moves away from the landing pad, it loses reward. \n",
    "* If the lander crashes, it receives -100 points.\n",
    "* If the lander comes to rest, it receives +100 points.\n",
    "* Each leg with ground contact is +10 points.\n",
    "* Firing the main engine is -0.3 points each frame.\n",
    "* Firing the side engine is -0.03 points each frame.\n",
    "\n",
    "<a name=\"3.4\"></a>\n",
    "### 3.4 Episode Termination\n",
    "\n",
    "An episode ends (i.e the environment enters a terminal state) if:\n",
    "\n",
    "* The lunar lander crashes (i.e if the body of the lunar lander comes in contact with the surface of the moon).\n",
    "\n",
    "* The absolute value of the lander's $x$-coordinate is greater than 1 (i.e. it goes beyond the left or right border)\n",
    "\n",
    "You can check out the [Open AI Gym documentation](https://www.gymlibrary.dev/environments/box2d/lunar_lander/) for a full description of the environment. "
   ]
  },
  {
   "cell_type": "markdown",
   "metadata": {},
   "source": [
    "<a name=\"4\"></a>\n",
    "## 4 - Load the Environment\n",
    "\n",
    "We start by loading the `LunarLander-v2` environment from the `gym` library by using the `.make()` method. `LunarLander-v2` is the latest version of the Lunar Lander environment and you can read about its version history in the [Open AI Gym documentation](https://www.gymlibrary.dev/environments/box2d/lunar_lander/#version-history)."
   ]
  },
  {
   "cell_type": "code",
   "execution_count": 5,
   "metadata": {
    "deletable": false,
    "editable": false,
    "id": "ILVMYKewfR0n"
   },
   "outputs": [],
   "source": [
    "env = gym.make('LunarLander-v2')"
   ]
  },
  {
   "cell_type": "markdown",
   "metadata": {},
   "source": [
    "Once we load the environment we use the `.reset()` method to reset the environment to the initial state. The lander starts at the top center of the environment and we can render the first frame of the environment by using the `.render()` method."
   ]
  },
  {
   "cell_type": "code",
   "execution_count": 6,
   "metadata": {
    "deletable": false,
    "editable": false
   },
   "outputs": [
    {
     "data": {
      "image/jpeg": "[encoded data removed]",
      "image/png": "[encoded data removed]",
      "text/plain": [
       "<PIL.Image.Image image mode=RGB size=600x400>"
      ]
     },
     "execution_count": 6,
     "metadata": {},
     "output_type": "execute_result"
    }
   ],
   "source": [
    "env.reset()\n",
    "PIL.Image.fromarray(env.render(mode='rgb_array'))"
   ]
  },
  {
   "cell_type": "markdown",
   "metadata": {},
   "source": [
    "In order to build our neural network later on we need to know the size of the state vector and the number of valid actions. We can get this information from our environment by using the `.observation_space.shape` and `action_space.n` methods, respectively."
   ]
  },
  {
   "cell_type": "code",
   "execution_count": 7,
   "metadata": {
    "deletable": false,
    "editable": false,
    "id": "x3fdqdG4CUu2"
   },
   "outputs": [
    {
     "name": "stdout",
     "output_type": "stream",
     "text": [
      "State Shape: (8,)\n",
      "Number of actions: 4\n"
     ]
    }
   ],
   "source": [
    "state_size = env.observation_space.shape\n",
    "num_actions = env.action_space.n\n",
    "\n",
    "print('State Shape:', state_size)\n",
    "print('Number of actions:', num_actions)"
   ]
  },
  {
   "cell_type": "markdown",
   "metadata": {},
   "source": [
    "<a name=\"5\"></a>\n",
    "## 5 - Interacting with the Gym Environment\n",
    "\n",
    "The Gym library implements the standard “agent-environment loop” formalism:\n",
    "\n",
    "<br>\n",
    "<center>\n",
    "<video src = \"./videos/rl_formalism.m4v\" width=\"840\" height=\"480\" controls autoplay loop poster=\"./images/rl_formalism.png\"> </video>\n",
    "<figcaption style = \"text-align:center; font-style:italic\">Fig 2. Agent-environment Loop Formalism.</figcaption>\n",
    "</center>\n",
    "<br>\n",
    "\n",
    "In the standard “agent-environment loop” formalism, an agent interacts with the environment in discrete time steps $t=0,1,2,...$. At each time step $t$, the agent uses a policy $\\pi$ to select an action $A_t$ based on its observation of the environment's state $S_t$. The agent receives a numerical reward $R_t$ and on the next time step, moves to a new state $S_{t+1}$.\n",
    "\n",
    "<a name=\"5.1\"></a>\n",
    "### 5.1 Exploring the Environment's Dynamics\n",
    "\n",
    "In Open AI's Gym environments, we use the `.step()` method to run a single time step of the environment's dynamics. In the version of `gym` that we are using the `.step()` method accepts an action and returns four values:\n",
    "\n",
    "* `observation` (**object**): an environment-specific object representing your observation of the environment. In the Lunar Lander environment this corresponds to a numpy array containing the positions and velocities of the lander as described in section [3.2 Observation Space](#3.2).\n",
    "\n",
    "\n",
    "* `reward` (**float**): amount of reward returned as a result of taking the given action. In the Lunar Lander environment this corresponds to a float of type `numpy.float64` as described in section [3.3 Rewards](#3.3).\n",
    "\n",
    "\n",
    "* `done` (**boolean**): When done is `True`, it indicates the episode has terminated and it’s time to reset the environment. \n",
    "\n",
    "\n",
    "* `info` (**dictionary**): diagnostic information useful for debugging. We won't be using this variable in this notebook but it is shown here for completeness.\n",
    "\n",
    "To begin an episode, we need to reset the environment to an initial state. We do this by using the `.reset()` method. "
   ]
  },
  {
   "cell_type": "code",
   "execution_count": 8,
   "metadata": {
    "deletable": false,
    "editable": false
   },
   "outputs": [],
   "source": [
    "# Reset the environment and get the initial state.\n",
    "initial_state = env.reset()"
   ]
  },
  {
   "cell_type": "markdown",
   "metadata": {},
   "source": [
    "Once the environment is reset, the agent can start taking actions in the environment by using the `.step()` method. Note that the agent can only take one action per time step. \n",
    "\n",
    "In the cell below you can select different actions and see how the returned values change depending on the action taken. Remember that in this environment the agent has four discrete actions available and we specify them in code by using their corresponding numerical value:\n",
    "\n",
    "```python\n",
    "Do nothing = 0\n",
    "Fire right engine = 1\n",
    "Fire main engine = 2\n",
    "Fire left engine = 3\n",
    "```"
   ]
  },
  {
   "cell_type": "code",
   "execution_count": 9,
   "metadata": {
    "deletable": false
   },
   "outputs": [
    {
     "name": "stderr",
     "output_type": "stream",
     "text": [
      "e:\\Coursera\\Machine Learning Specialization\\Lunar Lander\\utils.py:356: FutureWarning: Styler.applymap has been deprecated. Use Styler.map instead.\n",
      "  .applymap(lambda x: 'background-color : grey' if x == '' else '')\\\n"
     ]
    },
    {
     "data": {
      "text/html": [
       "<style type=\"text/css\">\n",
       "#T_e46ae th {\n",
       "  border: 1px solid grey;\n",
       "  text-align: center;\n",
       "}\n",
       "#T_e46ae tbody td {\n",
       "  border: 1px solid grey;\n",
       "  text-align: center;\n",
       "}\n",
       "#T_e46ae_row0_col0, #T_e46ae_row1_col1, #T_e46ae_row1_col2, #T_e46ae_row1_col3, #T_e46ae_row1_col4, #T_e46ae_row1_col5, #T_e46ae_row1_col6, #T_e46ae_row1_col7, #T_e46ae_row1_col8, #T_e46ae_row1_col9, #T_e46ae_row1_col10, #T_e46ae_row1_col11, #T_e46ae_row2_col0, #T_e46ae_row3_col1, #T_e46ae_row3_col2, #T_e46ae_row3_col3, #T_e46ae_row3_col4, #T_e46ae_row3_col5, #T_e46ae_row3_col6, #T_e46ae_row3_col7, #T_e46ae_row3_col8, #T_e46ae_row3_col9, #T_e46ae_row3_col10, #T_e46ae_row3_col11, #T_e46ae_row4_col1, #T_e46ae_row4_col2, #T_e46ae_row4_col3, #T_e46ae_row4_col4, #T_e46ae_row4_col5, #T_e46ae_row4_col6, #T_e46ae_row4_col7, #T_e46ae_row4_col8, #T_e46ae_row4_col9, #T_e46ae_row4_col10, #T_e46ae_row4_col11 {\n",
       "  background-color: grey;\n",
       "}\n",
       "</style>\n",
       "<table id=\"T_e46ae\">\n",
       "  <thead>\n",
       "    <tr>\n",
       "      <th class=\"blank level0\" >&nbsp;</th>\n",
       "      <th id=\"T_e46ae_level0_col0\" class=\"col_heading level0 col0\" ></th>\n",
       "      <th id=\"T_e46ae_level0_col1\" class=\"col_heading level0 col1\" colspan=\"8\">State Vector</th>\n",
       "      <th id=\"T_e46ae_level0_col9\" class=\"col_heading level0 col9\" colspan=\"3\">Derived from the State Vector (the closer to zero, the better)</th>\n",
       "    </tr>\n",
       "    <tr>\n",
       "      <th class=\"blank level1\" >&nbsp;</th>\n",
       "      <th id=\"T_e46ae_level1_col0\" class=\"col_heading level1 col0\" ></th>\n",
       "      <th id=\"T_e46ae_level1_col1\" class=\"col_heading level1 col1\" colspan=\"2\">Coordinate</th>\n",
       "      <th id=\"T_e46ae_level1_col3\" class=\"col_heading level1 col3\" colspan=\"2\">Velocity</th>\n",
       "      <th id=\"T_e46ae_level1_col5\" class=\"col_heading level1 col5\" colspan=\"2\">Tilting</th>\n",
       "      <th id=\"T_e46ae_level1_col7\" class=\"col_heading level1 col7\" colspan=\"2\">Ground contact</th>\n",
       "      <th id=\"T_e46ae_level1_col9\" class=\"col_heading level1 col9\" >Distance from landing pad</th>\n",
       "      <th id=\"T_e46ae_level1_col10\" class=\"col_heading level1 col10\" >Velocity</th>\n",
       "      <th id=\"T_e46ae_level1_col11\" class=\"col_heading level1 col11\" >Tilting Angle (absolute value)</th>\n",
       "    </tr>\n",
       "    <tr>\n",
       "      <th class=\"blank level2\" >&nbsp;</th>\n",
       "      <th id=\"T_e46ae_level2_col0\" class=\"col_heading level2 col0\" ></th>\n",
       "      <th id=\"T_e46ae_level2_col1\" class=\"col_heading level2 col1\" >X (Horizontal)</th>\n",
       "      <th id=\"T_e46ae_level2_col2\" class=\"col_heading level2 col2\" >Y (Vertical)</th>\n",
       "      <th id=\"T_e46ae_level2_col3\" class=\"col_heading level2 col3\" >X (Horizontal)</th>\n",
       "      <th id=\"T_e46ae_level2_col4\" class=\"col_heading level2 col4\" >Y (Vertical)</th>\n",
       "      <th id=\"T_e46ae_level2_col5\" class=\"col_heading level2 col5\" >Angle</th>\n",
       "      <th id=\"T_e46ae_level2_col6\" class=\"col_heading level2 col6\" >Angular Velocity</th>\n",
       "      <th id=\"T_e46ae_level2_col7\" class=\"col_heading level2 col7\" >Left Leg?</th>\n",
       "      <th id=\"T_e46ae_level2_col8\" class=\"col_heading level2 col8\" >Right Leg?</th>\n",
       "      <th id=\"T_e46ae_level2_col9\" class=\"col_heading level2 col9\" ></th>\n",
       "      <th id=\"T_e46ae_level2_col10\" class=\"col_heading level2 col10\" ></th>\n",
       "      <th id=\"T_e46ae_level2_col11\" class=\"col_heading level2 col11\" ></th>\n",
       "    </tr>\n",
       "  </thead>\n",
       "  <tbody>\n",
       "    <tr>\n",
       "      <th id=\"T_e46ae_level0_row0\" class=\"row_heading level0 row0\" >Current State</th>\n",
       "      <td id=\"T_e46ae_row0_col0\" class=\"data row0 col0\" ></td>\n",
       "      <td id=\"T_e46ae_row0_col1\" class=\"data row0 col1\" >0.001919</td>\n",
       "      <td id=\"T_e46ae_row0_col2\" class=\"data row0 col2\" >1.422301</td>\n",
       "      <td id=\"T_e46ae_row0_col3\" class=\"data row0 col3\" >0.194400</td>\n",
       "      <td id=\"T_e46ae_row0_col4\" class=\"data row0 col4\" >0.505814</td>\n",
       "      <td id=\"T_e46ae_row0_col5\" class=\"data row0 col5\" >-0.002217</td>\n",
       "      <td id=\"T_e46ae_row0_col6\" class=\"data row0 col6\" >-0.044034</td>\n",
       "      <td id=\"T_e46ae_row0_col7\" class=\"data row0 col7\" >False</td>\n",
       "      <td id=\"T_e46ae_row0_col8\" class=\"data row0 col8\" >False</td>\n",
       "      <td id=\"T_e46ae_row0_col9\" class=\"data row0 col9\" >1.422302</td>\n",
       "      <td id=\"T_e46ae_row0_col10\" class=\"data row0 col10\" >0.541885</td>\n",
       "      <td id=\"T_e46ae_row0_col11\" class=\"data row0 col11\" >0.002217</td>\n",
       "    </tr>\n",
       "    <tr>\n",
       "      <th id=\"T_e46ae_level0_row1\" class=\"row_heading level0 row1\" >Action</th>\n",
       "      <td id=\"T_e46ae_row1_col0\" class=\"data row1 col0\" >Do nothing</td>\n",
       "      <td id=\"T_e46ae_row1_col1\" class=\"data row1 col1\" ></td>\n",
       "      <td id=\"T_e46ae_row1_col2\" class=\"data row1 col2\" ></td>\n",
       "      <td id=\"T_e46ae_row1_col3\" class=\"data row1 col3\" ></td>\n",
       "      <td id=\"T_e46ae_row1_col4\" class=\"data row1 col4\" ></td>\n",
       "      <td id=\"T_e46ae_row1_col5\" class=\"data row1 col5\" ></td>\n",
       "      <td id=\"T_e46ae_row1_col6\" class=\"data row1 col6\" ></td>\n",
       "      <td id=\"T_e46ae_row1_col7\" class=\"data row1 col7\" ></td>\n",
       "      <td id=\"T_e46ae_row1_col8\" class=\"data row1 col8\" ></td>\n",
       "      <td id=\"T_e46ae_row1_col9\" class=\"data row1 col9\" ></td>\n",
       "      <td id=\"T_e46ae_row1_col10\" class=\"data row1 col10\" ></td>\n",
       "      <td id=\"T_e46ae_row1_col11\" class=\"data row1 col11\" ></td>\n",
       "    </tr>\n",
       "    <tr>\n",
       "      <th id=\"T_e46ae_level0_row2\" class=\"row_heading level0 row2\" >Next State</th>\n",
       "      <td id=\"T_e46ae_row2_col0\" class=\"data row2 col0\" ></td>\n",
       "      <td id=\"T_e46ae_row2_col1\" class=\"data row2 col1\" >0.003839</td>\n",
       "      <td id=\"T_e46ae_row2_col2\" class=\"data row2 col2\" >1.433103</td>\n",
       "      <td id=\"T_e46ae_row2_col3\" class=\"data row2 col3\" >0.194137</td>\n",
       "      <td id=\"T_e46ae_row2_col4\" class=\"data row2 col4\" >0.480094</td>\n",
       "      <td id=\"T_e46ae_row2_col5\" class=\"data row2 col5\" >-0.004393</td>\n",
       "      <td id=\"T_e46ae_row2_col6\" class=\"data row2 col6\" >-0.043519</td>\n",
       "      <td id=\"T_e46ae_row2_col7\" class=\"data row2 col7\" >False</td>\n",
       "      <td id=\"T_e46ae_row2_col8\" class=\"data row2 col8\" >False</td>\n",
       "      <td id=\"T_e46ae_row2_col9\" class=\"data row2 col9\" >1.433108</td>\n",
       "      <td id=\"T_e46ae_row2_col10\" class=\"data row2 col10\" >0.517860</td>\n",
       "      <td id=\"T_e46ae_row2_col11\" class=\"data row2 col11\" >0.004393</td>\n",
       "    </tr>\n",
       "    <tr>\n",
       "      <th id=\"T_e46ae_level0_row3\" class=\"row_heading level0 row3\" >Reward</th>\n",
       "      <td id=\"T_e46ae_row3_col0\" class=\"data row3 col0\" >1.104326</td>\n",
       "      <td id=\"T_e46ae_row3_col1\" class=\"data row3 col1\" ></td>\n",
       "      <td id=\"T_e46ae_row3_col2\" class=\"data row3 col2\" ></td>\n",
       "      <td id=\"T_e46ae_row3_col3\" class=\"data row3 col3\" ></td>\n",
       "      <td id=\"T_e46ae_row3_col4\" class=\"data row3 col4\" ></td>\n",
       "      <td id=\"T_e46ae_row3_col5\" class=\"data row3 col5\" ></td>\n",
       "      <td id=\"T_e46ae_row3_col6\" class=\"data row3 col6\" ></td>\n",
       "      <td id=\"T_e46ae_row3_col7\" class=\"data row3 col7\" ></td>\n",
       "      <td id=\"T_e46ae_row3_col8\" class=\"data row3 col8\" ></td>\n",
       "      <td id=\"T_e46ae_row3_col9\" class=\"data row3 col9\" ></td>\n",
       "      <td id=\"T_e46ae_row3_col10\" class=\"data row3 col10\" ></td>\n",
       "      <td id=\"T_e46ae_row3_col11\" class=\"data row3 col11\" ></td>\n",
       "    </tr>\n",
       "    <tr>\n",
       "      <th id=\"T_e46ae_level0_row4\" class=\"row_heading level0 row4\" >Episode Terminated</th>\n",
       "      <td id=\"T_e46ae_row4_col0\" class=\"data row4 col0\" >False</td>\n",
       "      <td id=\"T_e46ae_row4_col1\" class=\"data row4 col1\" ></td>\n",
       "      <td id=\"T_e46ae_row4_col2\" class=\"data row4 col2\" ></td>\n",
       "      <td id=\"T_e46ae_row4_col3\" class=\"data row4 col3\" ></td>\n",
       "      <td id=\"T_e46ae_row4_col4\" class=\"data row4 col4\" ></td>\n",
       "      <td id=\"T_e46ae_row4_col5\" class=\"data row4 col5\" ></td>\n",
       "      <td id=\"T_e46ae_row4_col6\" class=\"data row4 col6\" ></td>\n",
       "      <td id=\"T_e46ae_row4_col7\" class=\"data row4 col7\" ></td>\n",
       "      <td id=\"T_e46ae_row4_col8\" class=\"data row4 col8\" ></td>\n",
       "      <td id=\"T_e46ae_row4_col9\" class=\"data row4 col9\" ></td>\n",
       "      <td id=\"T_e46ae_row4_col10\" class=\"data row4 col10\" ></td>\n",
       "      <td id=\"T_e46ae_row4_col11\" class=\"data row4 col11\" ></td>\n",
       "    </tr>\n",
       "  </tbody>\n",
       "</table>\n"
      ],
      "text/plain": [
       "<pandas.io.formats.style.Styler at 0x202814562c0>"
      ]
     },
     "metadata": {},
     "output_type": "display_data"
    }
   ],
   "source": [
    "# Select an action\n",
    "action = 0\n",
    "\n",
    "# Run a single time step of the environment's dynamics with the given action.\n",
    "next_state, reward, done, _ = env.step(action)\n",
    "\n",
    "# Display table with values. All values are displayed to 3 decimal places.\n",
    "utils.display_table(initial_state, action, next_state, reward, done)"
   ]
  },
  {
   "cell_type": "markdown",
   "metadata": {},
   "source": [
    "In practice, when we train the agent we use a loop to allow the agent to take many consecutive actions during an episode."
   ]
  },
  {
   "cell_type": "markdown",
   "metadata": {},
   "source": [
    "<a name=\"6\"></a>\n",
    "## 6 - Deep Q-Learning\n",
    "\n",
    "In cases where both the state and action space are discrete we can estimate the action-value function iteratively by using the Bellman equation:\n",
    "\n",
    "$$\n",
    "Q_{i+1}(s,a) = R + \\gamma \\max_{a'}Q_i(s',a')\n",
    "$$\n",
    "\n",
    "This iterative method converges to the optimal action-value function $Q^*(s,a)$ as $i\\to\\infty$. This means that the agent just needs to gradually explore the state-action space and keep updating the estimate of $Q(s,a)$ until it converges to the optimal action-value function $Q^*(s,a)$. However, in cases where the state space is continuous it becomes practically impossible to explore the entire state-action space. Consequently, this also makes it practically impossible to gradually estimate $Q(s,a)$ until it converges to $Q^*(s,a)$.\n",
    "\n",
    "In the Deep $Q$-Learning, we solve this problem by using a neural network to estimate the action-value function $Q(s,a)\\approx Q^*(s,a)$. We call this neural network a $Q$-Network and it can be trained by adjusting its weights at each iteration to minimize the mean-squared error in the Bellman equation.\n",
    "\n",
    "Unfortunately, using neural networks in reinforcement learning to estimate action-value functions has proven to be highly unstable. Luckily, there's a couple of techniques that can be employed to avoid instabilities. These techniques consist of using a ***Target Network*** and ***Experience Replay***. We will explore these two techniques in the following sections."
   ]
  },
  {
   "cell_type": "markdown",
   "metadata": {},
   "source": [
    "<a name=\"6.1\"></a>\n",
    "### 6.1 Target Network\n",
    "\n",
    "We can train the $Q$-Network by adjusting it's weights at each iteration to minimize the mean-squared error in the Bellman equation, where the target values are given by:\n",
    "\n",
    "$$\n",
    "y = R + \\gamma \\max_{a'}Q(s',a';w)\n",
    "$$\n",
    "\n",
    "where $w$ are the weights of the $Q$-Network. This means that we are adjusting the weights $w$ at each iteration to minimize the following error:\n",
    "\n",
    "$$\n",
    "\\overbrace{\\underbrace{R + \\gamma \\max_{a'}Q(s',a'; w)}_{\\rm {y~target}} - Q(s,a;w)}^{\\rm {Error}}\n",
    "$$\n",
    "\n",
    "Notice that this forms a problem because the $y$ target is changing on every iteration. Having a constantly moving target can lead to oscillations and instabilities. To avoid this, we can create\n",
    "a separate neural network for generating the $y$ targets. We call this separate neural network the **target $\\hat Q$-Network** and it will have the same architecture as the original $Q$-Network. By using the target $\\hat Q$-Network, the above error becomes:\n",
    "\n",
    "$$\n",
    "\\overbrace{\\underbrace{R + \\gamma \\max_{a'}\\hat{Q}(s',a'; w^-)}_{\\rm {y~target}} - Q(s,a;w)}^{\\rm {Error}}\n",
    "$$\n",
    "\n",
    "where $w^-$ and $w$ are the weights the target $\\hat Q$-Network and $Q$-Network, respectively.\n",
    "\n",
    "In practice, we will use the following algorithm: every $C$ time steps we will use the $\\hat Q$-Network to generate the $y$ targets and update the weights of the target $\\hat Q$-Network using the weights of the $Q$-Network. We will update the weights $w^-$ of the the target $\\hat Q$-Network using a **soft update**. This means that we will update the weights $w^-$ using the following rule:\n",
    " \n",
    "$$\n",
    "w^-\\leftarrow \\tau w + (1 - \\tau) w^-\n",
    "$$\n",
    "\n",
    "where $\\tau\\ll 1$. By using the soft update, we are ensuring that the target values, $y$, change slowly, which greatly improves the stability of our learning algorithm."
   ]
  },
  {
   "cell_type": "markdown",
   "metadata": {},
   "source": [
    "<a name=\"ex01\"></a>\n",
    "### Exercise 1\n",
    "\n",
    "In this exercise you will create the $Q$ and target $\\hat Q$ networks and set the optimizer. Remember that the Deep $Q$-Network (DQN) is a neural network that approximates the action-value function $Q(s,a)\\approx Q^*(s,a)$. It does this by learning how to map states to $Q$ values.\n",
    "\n",
    "To solve the Lunar Lander environment, we are going to employ a DQN with the following architecture:\n",
    "\n",
    "* An `Input` layer that takes `state_size` as input.\n",
    "\n",
    "* A `Dense` layer with `64` units and a `relu` activation function.\n",
    "\n",
    "* A `Dense` layer with `64` units and a `relu` activation function.\n",
    "\n",
    "* A `Dense` layer with `num_actions` units and a `linear` activation function. This will be the output layer of our network.\n",
    "\n",
    "\n",
    "In the cell below you should create the $Q$-Network and the target $\\hat Q$-Network using the model architecture described above. Remember that both the $Q$-Network and the target $\\hat Q$-Network have the same architecture.\n",
    "\n",
    "Lastly, you should set `Adam` as the optimizer with a learning rate equal to `ALPHA`. Recall that `ALPHA` was defined in the [Hyperparameters](#2) section. We should note that for this exercise you should use the already imported packages:\n",
    "```python\n",
    "from tensorflow.keras.layers import Dense, Input\n",
    "from tensorflow.keras.optimizers import Adam\n",
    "```"
   ]
  },
  {
   "cell_type": "code",
   "execution_count": 10,
   "metadata": {
    "deletable": false
   },
   "outputs": [
    {
     "name": "stdout",
     "output_type": "stream",
     "text": [
      "WARNING:tensorflow:Please add `keras.layers.InputLayer` instead of `keras.Input` to Sequential model. `keras.Input` is intended to be used by Functional model.\n",
      "WARNING:tensorflow:Please add `keras.layers.InputLayer` instead of `keras.Input` to Sequential model. `keras.Input` is intended to be used by Functional model.\n"
     ]
    }
   ],
   "source": [
    "# UNQ_C1\n",
    "# GRADED CELL\n",
    "\n",
    "# Create the Q-Network\n",
    "q_network = Sequential([\n",
    "    ### START CODE HERE ### \n",
    "    Input(shape=(state_size)),\n",
    "    Dense(64, activation=\"relu\"),\n",
    "    Dense(64, activation=\"relu\"),\n",
    "    Dense(num_actions, activation=\"linear\")\n",
    "    \n",
    "    ### END CODE HERE ### \n",
    "    ])\n",
    "\n",
    "# Create the target Q^-Network\n",
    "target_q_network = Sequential([\n",
    "    ### START CODE HERE ### \n",
    "    Input(shape=(state_size)),\n",
    "    Dense(64, activation=\"relu\"),\n",
    "    Dense(64, activation=\"relu\"),\n",
    "    Dense(num_actions, activation=\"linear\")\n",
    "    \n",
    "    ### END CODE HERE ###\n",
    "    ])\n",
    "\n",
    "### START CODE HERE ### \n",
    "optimizer = Adam(learning_rate=ALPHA)\n",
    "### END CODE HERE ###"
   ]
  },
  {
   "cell_type": "code",
   "execution_count": 11,
   "metadata": {
    "deletable": false,
    "editable": false
   },
   "outputs": [
    {
     "name": "stdout",
     "output_type": "stream",
     "text": [
      "\u001b[92mAll tests passed!\n",
      "\u001b[92mAll tests passed!\n",
      "\u001b[92mAll tests passed!\n"
     ]
    }
   ],
   "source": [
    "# UNIT TEST\n",
    "from public_tests import *\n",
    "\n",
    "test_network(q_network)\n",
    "test_network(target_q_network)\n",
    "test_optimizer(optimizer, ALPHA) "
   ]
  },
  {
   "cell_type": "markdown",
   "metadata": {},
   "source": [
    "<details>\n",
    "  <summary><font size=\"3\" color=\"darkgreen\"><b>Click for hints</b></font></summary>\n",
    "    \n",
    "```python\n",
    "# Create the Q-Network\n",
    "q_network = Sequential([\n",
    "    Input(shape=state_size),                      \n",
    "    Dense(units=64, activation='relu'),            \n",
    "    Dense(units=64, activation='relu'),            \n",
    "    Dense(units=num_actions, activation='linear'),\n",
    "    ])\n",
    "\n",
    "# Create the target Q^-Network\n",
    "target_q_network = Sequential([\n",
    "    Input(shape=state_size),                       \n",
    "    Dense(units=64, activation='relu'),            \n",
    "    Dense(units=64, activation='relu'),            \n",
    "    Dense(units=num_actions, activation='linear'), \n",
    "    ])\n",
    "\n",
    "optimizer = Adam(learning_rate=ALPHA)                                  \n",
    "``` "
   ]
  },
  {
   "cell_type": "markdown",
   "metadata": {},
   "source": [
    "<a name=\"6.2\"></a>\n",
    "### 6.2 Experience Replay\n",
    "\n",
    "When an agent interacts with the environment, the states, actions, and rewards the agent experiences are sequential by nature. If the agent tries to learn from these consecutive experiences it can run into problems due to the strong correlations between them. To avoid this, we employ a technique known as **Experience Replay** to generate uncorrelated experiences for training our agent. Experience replay consists of storing the agent's experiences (i.e the states, actions, and rewards the agent receives) in a memory buffer and then sampling a random mini-batch of experiences from the buffer to do the learning. The experience tuples $(S_t, A_t, R_t, S_{t+1})$ will be added to the memory buffer at each time step as the agent interacts with the environment.\n",
    "\n",
    "For convenience, we will store the experiences as named tuples."
   ]
  },
  {
   "cell_type": "code",
   "execution_count": 12,
   "metadata": {
    "deletable": false,
    "editable": false
   },
   "outputs": [],
   "source": [
    "# Store experiences as named tuples\n",
    "experience = namedtuple(\"Experience\", field_names=[\"state\", \"action\", \"reward\", \"next_state\", \"done\"])"
   ]
  },
  {
   "cell_type": "markdown",
   "metadata": {},
   "source": [
    "By using experience replay we avoid problematic correlations, oscillations and instabilities. In addition, experience replay also allows the agent to potentially use the same experience in multiple weight updates, which increases data efficiency."
   ]
  },
  {
   "cell_type": "markdown",
   "metadata": {},
   "source": [
    "<a name=\"7\"></a>\n",
    "## 7 - Deep Q-Learning Algorithm with Experience Replay\n",
    "\n",
    "Now that we know all the techniques that we are going to use, we can put them together to arrive at the Deep Q-Learning Algorithm With Experience Replay.\n",
    "<br>\n",
    "<br>\n",
    "<figure>\n",
    "  <img src = \"images/deep_q_algorithm.png\" width = 90% style = \"border: thin silver solid; padding: 0px\">\n",
    "      <figcaption style = \"text-align: center; font-style: italic\">Fig 3. Deep Q-Learning with Experience Replay.</figcaption>\n",
    "</figure>"
   ]
  },
  {
   "cell_type": "markdown",
   "metadata": {},
   "source": [
    "<a name=\"ex02\"></a>\n",
    "### Exercise 2\n",
    "\n",
    "In this exercise you will implement line ***12*** of the algorithm outlined in *Fig 3* above and you will also compute the loss between the $y$ targets and the $Q(s,a)$ values. In the cell below, complete the `compute_loss` function by setting the $y$ targets equal to:\n",
    "\n",
    "$$\n",
    "\\begin{equation}\n",
    "    y_j =\n",
    "    \\begin{cases}\n",
    "      R_j & \\text{if episode terminates at step  } j+1\\\\\n",
    "      R_j + \\gamma \\max_{a'}\\hat{Q}(s_{j+1},a') & \\text{otherwise}\\\\\n",
    "    \\end{cases}       \n",
    "\\end{equation}\n",
    "$$\n",
    "\n",
    "Here are a couple of things to note:\n",
    "\n",
    "* The `compute_loss` function takes in a mini-batch of experience tuples. This mini-batch of experience tuples is unpacked to extract the `states`, `actions`, `rewards`, `next_states`, and `done_vals`. You should keep in mind that these variables are *TensorFlow Tensors* whose size will depend on the mini-batch size. For example, if the mini-batch size is `64` then both `rewards` and `done_vals` will be TensorFlow Tensors with `64` elements.\n",
    "\n",
    "\n",
    "* Using `if/else` statements to set the $y$ targets will not work when the variables are tensors with many elements. However, notice that you can use the `done_vals` to implement the above in a single line of code. To do this, recall that the `done` variable is a Boolean variable that takes the value `True` when an episode terminates at step $j+1$ and it is `False` otherwise. Taking into account that a Boolean value of `True` has the numerical value of `1` and a Boolean value of `False` has the numerical value of `0`, you can use the factor `(1 - done_vals)` to implement the above in a single line of code. Here's a hint: notice that `(1 - done_vals)` has a value of `0` when `done_vals` is `True` and a value of `1` when `done_vals` is `False`. \n",
    "\n",
    "Lastly, compute the loss by calculating the Mean-Squared Error (`MSE`) between the `y_targets` and the `q_values`. To calculate the mean-squared error you should use the already imported package `MSE`:\n",
    "```python\n",
    "from tensorflow.keras.losses import MSE\n",
    "```"
   ]
  },
  {
   "cell_type": "code",
   "execution_count": 13,
   "metadata": {
    "deletable": false
   },
   "outputs": [],
   "source": [
    "# UNQ_C2\n",
    "# GRADED FUNCTION: calculate_loss\n",
    "\n",
    "def compute_loss(experiences, gamma, q_network, target_q_network):\n",
    "    \"\"\" \n",
    "    Calculates the loss.\n",
    "    \n",
    "    Args:\n",
    "      experiences: (tuple) tuple of [\"state\", \"action\", \"reward\", \"next_state\", \"done\"] namedtuples\n",
    "      gamma: (float) The discount factor.\n",
    "      q_network: (tf.keras.Sequential) Keras model for predicting the q_values\n",
    "      target_q_network: (tf.keras.Sequential) Keras model for predicting the targets\n",
    "          \n",
    "    Returns:\n",
    "      loss: (TensorFlow Tensor(shape=(0,), dtype=int32)) the Mean-Squared Error between\n",
    "            the y targets and the Q(s,a) values.\n",
    "    \"\"\"\n",
    "\n",
    "    # Unpack the mini-batch of experience tuples\n",
    "    states, actions, rewards, next_states, done_vals = experiences\n",
    "    \n",
    "    # Compute max Q^(s,a)\n",
    "    max_qsa = tf.reduce_max(target_q_network(next_states), axis=-1)\n",
    "    \n",
    "    # Set y = R if episode terminates, otherwise set y = R + γ max Q^(s,a).\n",
    "    ### START CODE HERE ### \n",
    "    y_targets = rewards + gamma * max_qsa * (1 - done_vals)\n",
    "    ### END CODE HERE ###\n",
    "    \n",
    "    # Get the q_values\n",
    "    q_values = q_network(states)\n",
    "    q_values = tf.gather_nd(q_values, tf.stack([tf.range(q_values.shape[0]),\n",
    "                                                tf.cast(actions, tf.int32)], axis=1))\n",
    "        \n",
    "    # Compute the loss\n",
    "    ### START CODE HERE ### \n",
    "    loss = MSE(y_targets, q_values) \n",
    "    ### END CODE HERE ### \n",
    "    \n",
    "    return loss"
   ]
  },
  {
   "cell_type": "code",
   "execution_count": 14,
   "metadata": {
    "deletable": false,
    "editable": false
   },
   "outputs": [
    {
     "name": "stdout",
     "output_type": "stream",
     "text": [
      "\u001b[92mAll tests passed!\n"
     ]
    }
   ],
   "source": [
    "# UNIT TEST    \n",
    "test_compute_loss(compute_loss)"
   ]
  },
  {
   "cell_type": "markdown",
   "metadata": {},
   "source": [
    "<details>\n",
    "  <summary><font size=\"3\" color=\"darkgreen\"><b>Click for hints</b></font></summary>\n",
    "    \n",
    "```python\n",
    "def compute_loss(experiences, gamma, q_network, target_q_network):\n",
    "    \"\"\" \n",
    "    Calculates the loss.\n",
    "    \n",
    "    Args:\n",
    "      experiences: (tuple) tuple of [\"state\", \"action\", \"reward\", \"next_state\", \"done\"] namedtuples\n",
    "      gamma: (float) The discount factor.\n",
    "      q_network: (tf.keras.Sequential) Keras model for predicting the q_values\n",
    "      target_q_network: (tf.keras.Sequential) Keras model for predicting the targets\n",
    "          \n",
    "    Returns:\n",
    "      loss: (TensorFlow Tensor(shape=(0,), dtype=int32)) the Mean-Squared Error between\n",
    "            the y targets and the Q(s,a) values.\n",
    "    \"\"\"\n",
    "\n",
    "    \n",
    "    # Unpack the mini-batch of experience tuples\n",
    "    states, actions, rewards, next_states, done_vals = experiences\n",
    "    \n",
    "    # Compute max Q^(s,a)\n",
    "    max_qsa = tf.reduce_max(target_q_network(next_states), axis=-1)\n",
    "    \n",
    "    # Set y = R if episode terminates, otherwise set y = R + γ max Q^(s,a).\n",
    "    y_targets = rewards + (gamma * max_qsa * (1 - done_vals))\n",
    "    \n",
    "    # Get the q_values\n",
    "    q_values = q_network(states)\n",
    "    q_values = tf.gather_nd(q_values, tf.stack([tf.range(q_values.shape[0]),\n",
    "                                                tf.cast(actions, tf.int32)], axis=1))\n",
    "    \n",
    "    # Calculate the loss\n",
    "    loss = MSE(y_targets, q_values)\n",
    "    \n",
    "    return loss\n",
    "\n",
    "``` \n",
    "    "
   ]
  },
  {
   "cell_type": "markdown",
   "metadata": {},
   "source": [
    "<a name=\"8\"></a>\n",
    "## 8 - Update the Network Weights\n",
    "\n",
    "We will use the `agent_learn` function below to implement lines ***12 -14*** of the algorithm outlined in [Fig 3](#7). The `agent_learn` function will update the weights of the $Q$ and target $\\hat Q$ networks using a custom training loop. Because we are using a custom training loop we need to retrieve the gradients via a `tf.GradientTape` instance, and then call `optimizer.apply_gradients()` to update the weights of our $Q$-Network. Note that we are also using the `@tf.function` decorator to increase performance. Without this decorator our training will take twice as long. If you would like to know more about how to increase performance with `@tf.function` take a look at the [TensorFlow documentation](https://www.tensorflow.org/guide/function).\n",
    "\n",
    "The last line of this function updates the weights of the target $\\hat Q$-Network using a [soft update](#6.1). If you want to know how this is implemented in code we encourage you to take a look at the `utils.update_target_network` function in the `utils` module."
   ]
  },
  {
   "cell_type": "code",
   "execution_count": 15,
   "metadata": {
    "deletable": false,
    "editable": false
   },
   "outputs": [],
   "source": [
    "@tf.function\n",
    "def agent_learn(experiences, gamma):\n",
    "    \"\"\"\n",
    "    Updates the weights of the Q networks.\n",
    "    \n",
    "    Args:\n",
    "      experiences: (tuple) tuple of [\"state\", \"action\", \"reward\", \"next_state\", \"done\"] namedtuples\n",
    "      gamma: (float) The discount factor.\n",
    "    \n",
    "    \"\"\"\n",
    "    \n",
    "    # Calculate the loss\n",
    "    with tf.GradientTape() as tape:\n",
    "        loss = compute_loss(experiences, gamma, q_network, target_q_network)\n",
    "\n",
    "    # Get the gradients of the loss with respect to the weights.\n",
    "    gradients = tape.gradient(loss, q_network.trainable_variables)\n",
    "    \n",
    "    # Update the weights of the q_network.\n",
    "    optimizer.apply_gradients(zip(gradients, q_network.trainable_variables))\n",
    "\n",
    "    # update the weights of target q_network\n",
    "    utils.update_target_network(q_network, target_q_network)"
   ]
  },
  {
   "cell_type": "markdown",
   "metadata": {},
   "source": [
    "<a name=\"9\"></a>\n",
    "## 9 - Train the Agent\n",
    "\n",
    "We are now ready to train our agent to solve the Lunar Lander environment. In the cell below we will implement the algorithm in [Fig 3](#7) line by line (please note that we have included the same algorithm below for easy reference. This will prevent you from scrolling up and down the notebook):\n",
    "\n",
    "* **Line 1**: We initialize the `memory_buffer` with a capacity of $N =$ `MEMORY_SIZE`. Notice that we are using a `deque` as the data structure for our `memory_buffer`.\n",
    "\n",
    "\n",
    "* **Line 2**: We skip this line since we already initialized the `q_network` in [Exercise 1](#ex01).\n",
    "\n",
    "\n",
    "* **Line 3**: We initialize the `target_q_network` by setting its weights to be equal to those of the `q_network`.\n",
    "\n",
    "\n",
    "* **Line 4**: We start the outer loop. Notice that we have set $M =$ `num_episodes = 2000`. This number is reasonable because the agent should be able to solve the Lunar Lander environment in less than `2000` episodes using this notebook's default parameters.\n",
    "\n",
    "\n",
    "* **Line 5**: We use the `.reset()` method to reset the environment to the initial state and get the initial state.\n",
    "\n",
    "\n",
    "* **Line 6**: We start the inner loop. Notice that we have set $T =$ `max_num_timesteps = 1000`. This means that the episode will automatically terminate if the episode hasn't terminated after `1000` time steps.\n",
    "\n",
    "\n",
    "* **Line 7**: The agent observes the current `state` and chooses an `action` using an $\\epsilon$-greedy policy. Our agent starts out using a value of $\\epsilon =$ `epsilon = 1` which yields an $\\epsilon$-greedy policy that is equivalent to the equiprobable random policy. This means that at the beginning of our training, the agent is just going to take random actions regardless of the observed `state`. As training progresses we will decrease the value of $\\epsilon$ slowly towards a minimum value using a given $\\epsilon$-decay rate. We want this minimum value to be close to zero because a value of $\\epsilon = 0$ will yield an $\\epsilon$-greedy policy that is equivalent to the greedy policy. This means that towards the end of training, the agent will lean towards selecting the `action` that it believes (based on its past experiences) will maximize $Q(s,a)$. We will set the minimum $\\epsilon$ value to be `0.01` and not exactly 0 because we always want to keep a little bit of exploration during training. If you want to know how this is implemented in code we encourage you to take a look at the `utils.get_action` function in the `utils` module.\n",
    "\n",
    "\n",
    "* **Line 8**: We use the `.step()` method to take the given `action` in the environment and get the `reward` and the `next_state`. \n",
    "\n",
    "\n",
    "* **Line 9**: We store the `experience(state, action, reward, next_state, done)` tuple in our `memory_buffer`. Notice that we also store the `done` variable so that we can keep track of when an episode terminates. This allowed us to set the $y$ targets in [Exercise 2](#ex02).\n",
    "\n",
    "\n",
    "* **Line 10**: We check if the conditions are met to perform a learning update. We do this by using our custom `utils.check_update_conditions` function. This function checks if $C =$ `NUM_STEPS_FOR_UPDATE = 4` time steps have occured and if our `memory_buffer` has enough experience tuples to fill a mini-batch. For example, if the mini-batch size is `64`, then our `memory_buffer` should have more than `64` experience tuples in order to pass the latter condition. If the conditions are met, then the `utils.check_update_conditions` function will return a value of `True`, otherwise it will return a value of `False`.\n",
    "\n",
    "\n",
    "* **Lines 11 - 14**: If the `update` variable is `True` then we perform a learning update. The learning update consists of sampling a random mini-batch of experience tuples from our `memory_buffer`, setting the $y$ targets, performing gradient descent, and updating the weights of the networks. We will use the `agent_learn` function we defined in [Section 8](#8) to perform the latter 3.\n",
    "\n",
    "\n",
    "* **Line 15**: At the end of each iteration of the inner loop we set `next_state` as our new `state` so that the loop can start again from this new state. In addition, we check if the episode has reached a terminal state (i.e we check if `done = True`). If a terminal state has been reached, then we break out of the inner loop.\n",
    "\n",
    "\n",
    "* **Line 16**: At the end of each iteration of the outer loop we update the value of $\\epsilon$, and check if the environment has been solved. We consider that the environment has been solved if the agent receives an average of `200` points in the last `100` episodes. If the environment has not been solved we continue the outer loop and start a new episode.\n",
    "\n",
    "Finally, we wanted to note that we have included some extra variables to keep track of the total number of points the agent received in each episode. This will help us determine if the agent has solved the environment and it will also allow us to see how our agent performed during training. We also use the `time` module to measure how long the training takes. \n",
    "\n",
    "<br>\n",
    "<br>\n",
    "<figure>\n",
    "  <img src = \"images/deep_q_algorithm.png\" width = 90% style = \"border: thin silver solid; padding: 0px\">\n",
    "      <figcaption style = \"text-align: center; font-style: italic\">Fig 4. Deep Q-Learning with Experience Replay.</figcaption>\n",
    "</figure>\n",
    "<br>\n",
    "\n",
    "**Note:** With this notebook's default parameters, the following cell takes between 10 to 15 minutes to run. "
   ]
  },
  {
   "cell_type": "code",
   "execution_count": 16,
   "metadata": {
    "deletable": false
   },
   "outputs": [
    {
     "name": "stdout",
     "output_type": "stream",
     "text": [
      "Episode 100 | Total point average of the last 100 episodes: -140.86\n",
      "Episode 200 | Total point average of the last 100 episodes: -101.76\n",
      "Episode 300 | Total point average of the last 100 episodes: -82.912\n",
      "Episode 400 | Total point average of the last 100 episodes: -48.81\n",
      "Episode 500 | Total point average of the last 100 episodes: 90.669\n",
      "Episode 562 | Total point average of the last 100 episodes: 200.40\n",
      "\n",
      "Environment solved in 562 episodes!\n",
      "WARNING:tensorflow:Compiled the loaded model, but the compiled metrics have yet to be built. `model.compile_metrics` will be empty until you train or evaluate the model.\n",
      "\n",
      "Total Runtime: 1368.35 s (22.81 min)\n"
     ]
    }
   ],
   "source": [
    "start = time.time()\n",
    "\n",
    "num_episodes = 2000\n",
    "max_num_timesteps = 1000\n",
    "\n",
    "total_point_history = []\n",
    "\n",
    "num_p_av = 100    # number of total points to use for averaging\n",
    "epsilon = 1.0     # initial ε value for ε-greedy policy\n",
    "\n",
    "# Create a memory buffer D with capacity N\n",
    "memory_buffer = deque(maxlen=MEMORY_SIZE)\n",
    "\n",
    "# Set the target network weights equal to the Q-Network weights\n",
    "target_q_network.set_weights(q_network.get_weights())\n",
    "\n",
    "for i in range(num_episodes):\n",
    "    \n",
    "    # Reset the environment to the initial state and get the initial state\n",
    "    state = env.reset()\n",
    "    total_points = 0\n",
    "    \n",
    "    for t in range(max_num_timesteps):\n",
    "        \n",
    "        # From the current state S choose an action A using an ε-greedy policy\n",
    "        state_qn = np.expand_dims(state, axis=0)  # state needs to be the right shape for the q_network\n",
    "        q_values = q_network(state_qn)\n",
    "        action = utils.get_action(q_values, epsilon)\n",
    "        \n",
    "        # Take action A and receive reward R and the next state S'\n",
    "        next_state, reward, done, _ = env.step(action)\n",
    "        \n",
    "        # Store experience tuple (S,A,R,S') in the memory buffer.\n",
    "        # We store the done variable as well for convenience.\n",
    "        memory_buffer.append(experience(state, action, reward, next_state, done))\n",
    "        \n",
    "        # Only update the network every NUM_STEPS_FOR_UPDATE time steps.\n",
    "        update = utils.check_update_conditions(t, NUM_STEPS_FOR_UPDATE, memory_buffer)\n",
    "        \n",
    "        if update:\n",
    "            # Sample random mini-batch of experience tuples (S,A,R,S') from D\n",
    "            experiences = utils.get_experiences(memory_buffer)\n",
    "            \n",
    "            # Set the y targets, perform a gradient descent step,\n",
    "            # and update the network weights.\n",
    "            agent_learn(experiences, GAMMA)\n",
    "        \n",
    "        state = next_state.copy()\n",
    "        total_points += reward\n",
    "        \n",
    "        if done:\n",
    "            break\n",
    "            \n",
    "    total_point_history.append(total_points)\n",
    "    av_latest_points = np.mean(total_point_history[-num_p_av:])\n",
    "    \n",
    "    # Update the ε value\n",
    "    epsilon = utils.get_new_eps(epsilon)\n",
    "\n",
    "    print(f\"\\rEpisode {i+1} | Total point average of the last {num_p_av} episodes: {av_latest_points:.2f}\", end=\"\")\n",
    "\n",
    "    if (i+1) % num_p_av == 0:\n",
    "        print(f\"\\rEpisode {i+1} | Total point average of the last {num_p_av} episodes: {av_latest_points:.2f}\")\n",
    "\n",
    "    # We will consider that the environment is solved if we get an\n",
    "    # average of 200 points in the last 100 episodes.\n",
    "    if av_latest_points >= 200.0:\n",
    "        print(f\"\\n\\nEnvironment solved in {i+1} episodes!\")\n",
    "        q_network.save('lunar_lander_model.h5')\n",
    "        break\n",
    "        \n",
    "tot_time = time.time() - start\n",
    "\n",
    "print(f\"\\nTotal Runtime: {tot_time:.2f} s ({(tot_time/60):.2f} min)\")"
   ]
  },
  {
   "cell_type": "markdown",
   "metadata": {},
   "source": [
    "We can plot the total point history along with the moving average to see how our agent improved during training. If you want to know about the different plotting options available in the `utils.plot_history` function we encourage you to take a look at the `utils` module."
   ]
  },
  {
   "cell_type": "code",
   "execution_count": 17,
   "metadata": {
    "deletable": false,
    "editable": false,
    "id": "E_EUXxurfe8m",
    "scrolled": false
   },
   "outputs": [
    {
     "data": {
      "image/png": "[encoded data removed]",
      "text/plain": [
       "<Figure size 1000x700 with 1 Axes>"
      ]
     },
     "metadata": {},
     "output_type": "display_data"
    }
   ],
   "source": [
    "# Plot the total point history along with the moving average\n",
    "utils.plot_history(total_point_history)"
   ]
  },
  {
   "cell_type": "markdown",
   "metadata": {
    "id": "c_xwgaX5MnYt"
   },
   "source": [
    "<a name=\"10\"></a>\n",
    "## 10 - See the Trained Agent In Action\n",
    "\n",
    "Now that we have trained our agent, we can see it in action. We will use the `utils.create_video` function to create a video of our agent interacting with the environment using the trained $Q$-Network. The `utils.create_video` function uses the `imageio` library to create the video. This library produces some warnings that can be distracting, so, to suppress these warnings we run the code below."
   ]
  },
  {
   "cell_type": "code",
   "execution_count": 18,
   "metadata": {
    "deletable": false,
    "editable": false
   },
   "outputs": [],
   "source": [
    "# Suppress warnings from imageio\n",
    "import logging\n",
    "logging.getLogger().setLevel(logging.ERROR)"
   ]
  },
  {
   "cell_type": "markdown",
   "metadata": {},
   "source": [
    "In the cell below we create a video of our agent interacting with the Lunar Lander environment using the trained `q_network`. The video is saved to the `videos` folder with the given `filename`. We use the `utils.embed_mp4` function to embed the video in the Jupyter Notebook so that we can see it here directly without having to download it.\n",
    "\n",
    "We should note that since the lunar lander starts with a random initial force applied to its center of mass, every time you run the cell below you will see a different video. If the agent was trained properly, it should be able to land the lunar lander in the landing pad every time, regardless of the initial force applied to its center of mass."
   ]
  },
  {
   "cell_type": "code",
   "execution_count": 22,
   "metadata": {
    "deletable": false,
    "editable": false,
    "id": "3Ttb_zLeJKiG",
    "scrolled": false
   },
   "outputs": [
    {
     "data": {
      "text/html": [
       "\n",
       "    <video width=\"840\" height=\"480\" controls>\n",
       "    <source src=\"data:video/mp4;base64,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\" type=\"video/mp4\">\n",
       "    Your browser does not support the video tag.\n",
       "    </video>"
      ],
      "text/plain": [
       "<IPython.core.display.HTML object>"
      ]
     },
     "execution_count": 22,
     "metadata": {},
     "output_type": "execute_result"
    }
   ],
   "source": [
    "filename = \"./videos/lunar_lander.mp4\"\n",
    "\n",
    "utils.create_video(filename, env, q_network)\n",
    "utils.embed_mp4(filename)"
   ]
  },
  {
   "cell_type": "markdown",
   "metadata": {},
   "source": [
    "<a name=\"11\"></a>\n",
    "## 11 - Congratulations!\n",
    "\n",
    "You have successfully used Deep Q-Learning with Experience Replay to train an agent to land a lunar lander safely on a landing pad on the surface of the moon. Congratulations!"
   ]
  },
  {
   "cell_type": "markdown",
   "metadata": {},
   "source": [
    "<a name=\"12\"></a>\n",
    "## 12 - References\n",
    "\n",
    "If you would like to learn more about Deep Q-Learning, we recommend you check out the following papers.\n",
    "\n",
    "\n",
    "* Mnih, V., Kavukcuoglu, K., Silver, D. et al. Human-level control through deep reinforcement learning. Nature 518, 529–533 (2015).\n",
    "\n",
    "\n",
    "* Lillicrap, T. P., Hunt, J. J., Pritzel, A., et al. Continuous Control with Deep Reinforcement Learning. ICLR (2016).\n",
    "\n",
    "\n",
    "* Mnih, V., Kavukcuoglu, K., Silver, D. et al. Playing Atari with Deep Reinforcement Learning. arXiv e-prints.  arXiv:1312.5602 (2013)."
   ]
  },
  {
   "cell_type": "markdown",
   "metadata": {},
   "source": [
    "<details>\n",
    "  <summary><font size=\"2\" color=\"darkgreen\"><b>Please click here if you want to experiment with any of the non-graded code.</b></font></summary>\n",
    "    <p><i><b>Important Note: Please only do this when you've already passed the assignment to avoid problems with the autograder.</b></i>\n",
    "    <ol>\n",
    "        <li> On the notebook’s menu, click “View” > “Cell Toolbar” > “Edit Metadata”</li>\n",
    "        <li> Hit the “Edit Metadata” button next to the code cell which you want to lock/unlock</li>\n",
    "        <li> Set the attribute value for “editable” to:\n",
    "            <ul>\n",
    "                <li> “true” if you want to unlock it </li>\n",
    "                <li> “false” if you want to lock it </li>\n",
    "            </ul>\n",
    "        </li>\n",
    "        <li> On the notebook’s menu, click “View” > “Cell Toolbar” > “None” </li>\n",
    "    </ol>\n",
    "    <p> Here's a short demo of how to do the steps above: \n",
    "        <br>\n",
    "        <img src=\"https://drive.google.com/uc?export=view&id=14Xy_Mb17CZVgzVAgq7NCjMVBvSae3xO1\" align=\"center\" alt=\"unlock_cells.gif\">\n",
    "</details>"
   ]
  }
 ],
 "metadata": {
  "accelerator": "GPU",
  "celltoolbar": "Edit Metadata",
  "colab": {
   "collapsed_sections": [],
   "name": "TensorFlow - Lunar Lander.ipynb",
   "provenance": []
  },
  "kernelspec": {
   "display_name": "Python 3",
   "language": "python",
   "name": "python3"
  },
  "language_info": {
   "codemirror_mode": {
    "name": "ipython",
    "version": 3
   },
   "file_extension": ".py",
   "mimetype": "text/x-python",
   "name": "python",
   "nbconvert_exporter": "python",
   "pygments_lexer": "ipython3",
   "version": "3.10.13"
  }
 },
 "nbformat": 4,
 "nbformat_minor": 1
}
